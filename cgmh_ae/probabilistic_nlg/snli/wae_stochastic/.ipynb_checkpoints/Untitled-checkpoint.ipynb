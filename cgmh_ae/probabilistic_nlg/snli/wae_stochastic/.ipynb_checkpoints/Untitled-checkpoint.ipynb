{
 "cells": [
  {
   "cell_type": "code",
   "execution_count": 1,
   "metadata": {},
   "outputs": [],
   "source": [
    "from pathlib import Path\n",
    "import pickle\n",
    "from pathsetup import run_path_setup\n",
    "run_path_setup()\n",
    "\n",
    "import os\n",
    "import gl\n",
    "gl.isTrain = False"
   ]
  },
  {
   "cell_type": "code",
   "execution_count": 2,
   "metadata": {},
   "outputs": [],
   "source": [
    "from model_config import model_argparse"
   ]
  },
  {
   "cell_type": "code",
   "execution_count": 3,
   "metadata": {},
   "outputs": [],
   "source": [
    "import sys; sys.argv=['']; del sys"
   ]
  },
  {
   "cell_type": "code",
   "execution_count": 4,
   "metadata": {},
   "outputs": [
    {
     "name": "stderr",
     "output_type": "stream",
     "text": [
      "Using TensorFlow backend.\n"
     ]
    }
   ],
   "source": [
    "import numpy as np\n",
    "import utils"
   ]
  },
  {
   "cell_type": "code",
   "execution_count": 5,
   "metadata": {},
   "outputs": [],
   "source": [
    "import tensorflow as tf"
   ]
  },
  {
   "cell_type": "code",
   "execution_count": 6,
   "metadata": {},
   "outputs": [],
   "source": [
    "from stochastic_wae import StochasticWAEModel\n",
    "from sklearn.model_selection import train_test_split"
   ]
  },
  {
   "cell_type": "markdown",
   "metadata": {},
   "source": []
  },
  {
   "cell_type": "code",
   "execution_count": 7,
   "metadata": {},
   "outputs": [],
   "source": [
    "config = model_argparse()\n",
    "\n",
    "config[\"batch_size\"] = 1"
   ]
  },
  {
   "cell_type": "code",
   "execution_count": 8,
   "metadata": {},
   "outputs": [],
   "source": [
    "os.environ[\"CUDA_DEVICE_ORDER\"] = \"PCI_BUS_ID\"\n",
    "os.environ[\"CUDA_VISIBLE_DEVICES\"] = config['device']"
   ]
  },
  {
   "cell_type": "code",
   "execution_count": 9,
   "metadata": {},
   "outputs": [],
   "source": [
    "tf_config = tf.ConfigProto()\n",
    "tf_config.gpu_options.allow_growth = True\n",
    "sess = tf.Session(config=tf_config)"
   ]
  },
  {
   "cell_type": "code",
   "execution_count": 10,
   "metadata": {},
   "outputs": [],
   "source": [
    "np.random.seed(1337)"
   ]
  },
  {
   "cell_type": "code",
   "execution_count": 11,
   "metadata": {},
   "outputs": [
    {
     "name": "stdout",
     "output_type": "stream",
     "text": [
      "[INFO] Number of sentences = 629343\n"
     ]
    }
   ],
   "source": [
    "snli_data = utils.get_sentences(file_path = config['data'])\n",
    "print('[INFO] Number of sentences = {}'.format(len(snli_data)))"
   ]
  },
  {
   "cell_type": "code",
   "execution_count": 12,
   "metadata": {},
   "outputs": [],
   "source": [
    "sentences = [s.strip() for s in snli_data]\n",
    "np.random.shuffle(sentences)"
   ]
  },
  {
   "cell_type": "code",
   "execution_count": null,
   "metadata": {},
   "outputs": [
    {
     "name": "stdout",
     "output_type": "stream",
     "text": [
      "[INFO] Tokenizing input and output sequences\n"
     ]
    }
   ],
   "source": [
    "print('[INFO] Tokenizing input and output sequences')\n",
    "filters = '!\"#$%&()*+/:;<=>@[\\\\]^`{|}~\\t\\n'\n",
    "x, word_index = utils.tokenize_sequence(sentences,\n",
    "                                            filters,\n",
    "                                            config['num_tokens'],\n",
    "                                            config['vocab_size'])"
   ]
  },
  {
   "cell_type": "code",
   "execution_count": null,
   "metadata": {},
   "outputs": [],
   "source": [
    "print('[INFO] Split data into train-validation-test sets')\n",
    "x_train, _x_val_test = train_test_split(x, test_size = 0.1, random_state = 10)\n",
    "x_val, x_test = train_test_split(_x_val_test, test_size = 0.5, random_state = 10)"
   ]
  },
  {
   "cell_type": "code",
   "execution_count": null,
   "metadata": {},
   "outputs": [],
   "source": [
    "w2v = config['w2v_file']\n",
    "embeddings_matrix = utils.create_embedding_matrix(word_index,\n",
    "                                                  config['embedding_size'],\n",
    "                                                  w2v)"
   ]
  },
  {
   "cell_type": "code",
   "execution_count": null,
   "metadata": {},
   "outputs": [],
   "source": [
    "# Re-calculate the vocab size based on the word_idx dictionary\n",
    "config['vocab_size'] = len(word_index)"
   ]
  },
  {
   "cell_type": "code",
   "execution_count": null,
   "metadata": {},
   "outputs": [],
   "source": [
    "model = StochasticWAEModel(\n",
    "    config, \n",
    "    embeddings_matrix,\n",
    "    word_index\n",
    ")"
   ]
  },
  {
   "cell_type": "code",
   "execution_count": null,
   "metadata": {},
   "outputs": [],
   "source": []
  },
  {
   "cell_type": "code",
   "execution_count": null,
   "metadata": {},
   "outputs": [],
   "source": [
    "config['ckpt'] = './models/full_snli_lambdaWAE0.0_batch128_gammaKL_1.0_kernel_IMQ_num_tokens_20/20.ckpt'"
   ]
  },
  {
   "cell_type": "code",
   "execution_count": null,
   "metadata": {},
   "outputs": [],
   "source": [
    "checkpoint = config['ckpt']\n",
    "\n",
    "with tf.Session() as sess:\n",
    "    sess.run(tf.global_variables_initializer())\n",
    "    saver = tf.train.Saver()\n",
    "    saver.restore(sess, checkpoint)"
   ]
  },
  {
   "cell_type": "code",
   "execution_count": null,
   "metadata": {},
   "outputs": [],
   "source": []
  },
  {
   "cell_type": "code",
   "execution_count": null,
   "metadata": {},
   "outputs": [],
   "source": []
  },
  {
   "cell_type": "code",
   "execution_count": null,
   "metadata": {},
   "outputs": [],
   "source": []
  },
  {
   "cell_type": "code",
   "execution_count": 50,
   "metadata": {},
   "outputs": [
    {
     "name": "stdout",
     "output_type": "stream",
     "text": [
      "[INFO] Tokenizing input and output sequences\n",
      "[INFO] Generate with test set input ...\n",
      "nuzzles nuzzles nuzzles nuzzles nuzzles nuzzles nuzzles nuzzles nuzzles nuzzles nuzzles nuzzles nuzzles nuzzles nuzzles nuzzles nuzzles nuzzles nuzzles nuzzles\n",
      "\n"
     ]
    }
   ],
   "source": [
    "print('[INFO] Tokenizing input and output sequences')\n",
    "filters = '!\"#$%&()*+/:;<=>@[\\\\]^`{|}~\\t\\n'\n",
    "sentences = ['global warming']\n",
    "x, word_index = utils.tokenize_sequence(sentences,\n",
    "                                            filters,\n",
    "                                            config['num_tokens'],\n",
    "                                            config['vocab_size'])\n",
    "\n",
    "print(\"[INFO] Generate with test set input ...\")\n",
    "preds = model.predict(checkpoint, [x[0]])\n",
    "\n",
    "generated = ''\n",
    "for pred in preds:\n",
    "    print(' '.join([model.idx_word[i] for i in pred if i not in [model.pad, model.eos]]) + '\\n')"
   ]
  },
  {
   "cell_type": "code",
   "execution_count": null,
   "metadata": {},
   "outputs": [],
   "source": []
  }
 ],
 "metadata": {
  "kernelspec": {
   "display_name": "Python 3",
   "language": "python",
   "name": "python3"
  },
  "language_info": {
   "codemirror_mode": {
    "name": "ipython",
    "version": 3
   },
   "file_extension": ".py",
   "mimetype": "text/x-python",
   "name": "python",
   "nbconvert_exporter": "python",
   "pygments_lexer": "ipython3",
   "version": "3.6.9"
  }
 },
 "nbformat": 4,
 "nbformat_minor": 2
}
